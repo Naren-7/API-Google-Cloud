{
 "cells": [
  {
   "cell_type": "markdown",
   "metadata": {},
   "source": [
    "# **Importar** las bibliotecas necesarias"
   ]
  },
  {
   "cell_type": "markdown",
   "metadata": {},
   "source": [
    "> Instalar librerias con el siguiente comando:  `pip install -r requirements.txt`"
   ]
  },
  {
   "cell_type": "code",
   "execution_count": 6,
   "metadata": {},
   "outputs": [],
   "source": [
    "import pandas as pd\n",
    "import requests\n",
    "\n",
    "# Google Driver\n",
    "from googleapiclient.discovery import build\n",
    "from googleapiclient.http import MediaFileUpload\n",
    "from google.oauth2 import service_account\n",
    "import json\n",
    "\n",
    "\n",
    "\n",
    "import matplotlib.pyplot as plt\n",
    "import seaborn as sns\n",
    "import requests\n",
    "import zipfile\n",
    "import io\n",
    "import os"
   ]
  },
  {
   "cell_type": "markdown",
   "metadata": {},
   "source": [
    "# Paso 1: Descargar el conjunto de datos"
   ]
  },
  {
   "cell_type": "code",
   "execution_count": null,
   "metadata": {},
   "outputs": [],
   "source": [
    "# URL del archivo comprimido\n",
    "url = \"https://archive.ics.uci.edu/static/public/502/online+retail+ii.zip\"\n",
    "\n",
    "# Descargar el archivo y descomprimirlo\n",
    "with requests.get(url) as r:\n",
    "    with zipfile.ZipFile(io.BytesIO(r.content)) as z:\n",
    "        z.extractall(path=\"./prueba_i2ds/\")\n",
    "\n",
    "# Ahora los archivos están descomprimidos en la ruta \"./prueba_i2ds/\" y listos para ser utilizados\n"
   ]
  },
  {
   "cell_type": "markdown",
   "metadata": {},
   "source": [
    "# Paso 2: Conexión a Google Drive y Google Sheets"
   ]
  },
  {
   "cell_type": "markdown",
   "metadata": {},
   "source": [
    "- Subir archvio a Google Drive"
   ]
  },
  {
   "cell_type": "code",
   "execution_count": null,
   "metadata": {},
   "outputs": [],
   "source": [
    "# Leer el contenido del archivo JSON\n",
    "with open(\"./client_secrets.json\", \"r\") as json_file:\n",
    "    json_content = json.load(json_file)\n",
    "\n",
    "\n",
    "# Credenciales de servicio\n",
    "credentials = service_account.Credentials.from_service_account_info(\n",
    "    json_content, scopes=['https://www.googleapis.com/auth/drive']\n",
    ")\n",
    "\n",
    "# Crear el servicio de Google Drive\n",
    "drive_service = build('drive', 'v3', credentials=credentials)\n",
    "\n",
    "# ID de la carpeta \"prueba i2ds\" en Google Drive\n",
    "folder_id = '1FdyTzg04CGQCdPBJ5IeDjTDBH-o8oaRn'\n",
    "\n",
    "# Ruta local al archivo que deseas subir\n",
    "local_file_path = './prueba_i2ds/online_retail_II.xlsx'\n",
    "\n",
    "# Metadata del archivo\n",
    "file_metadata = {\n",
    "    'name': 'online_retail_data.xlsx',\n",
    "    'parents': [folder_id]\n",
    "}\n",
    "\n",
    "# Subir el archivo a Google Drive\n",
    "media = MediaFileUpload(local_file_path, mimetype='application/vnd.openxmlformats-officedocument.spreadsheetml.sheet')\n",
    "file = drive_service.files().create(body=file_metadata, media_body=media, fields='id').execute()\n",
    "\n",
    "print('Archivo subido con éxito a Google Drive en la carpeta \"prueba i2ds\"')\n"
   ]
  },
  {
   "cell_type": "markdown",
   "metadata": {},
   "source": [
    "- Leer el archivo .xlsx"
   ]
  },
  {
   "cell_type": "code",
   "execution_count": null,
   "metadata": {},
   "outputs": [],
   "source": [
    "# Leer el archivo desde Google Sheets y convertirlo a un DataFrame\n",
    "spreadsheet_id = 'YOUR_SPREADSHEET_ID_HERE'  # Reemplazar con el ID de la hoja de cálculo\n",
    "range_name = 'Sheet1'  # Reemplazar con el nombre de la hoja de cálculo\n",
    "sheet = build('sheets', 'v4', credentials=credentials).spreadsheets()\n",
    "result = sheet.values().get(spreadsheetId=spreadsheet_id, range=range_name).execute()\n",
    "values = result.get('values', [])\n",
    "\n",
    "df = pd.DataFrame(values[1:], columns=values[0])  # Crear el DataFrame desde los datos de Google Sheets"
   ]
  },
  {
   "cell_type": "markdown",
   "metadata": {},
   "source": [
    "# Paso 3: Manipulación de Datos con Pandas"
   ]
  },
  {
   "cell_type": "code",
   "execution_count": 47,
   "metadata": {},
   "outputs": [
    {
     "data": {
      "text/html": [
       "<div>\n",
       "<style scoped>\n",
       "    .dataframe tbody tr th:only-of-type {\n",
       "        vertical-align: middle;\n",
       "    }\n",
       "\n",
       "    .dataframe tbody tr th {\n",
       "        vertical-align: top;\n",
       "    }\n",
       "\n",
       "    .dataframe thead th {\n",
       "        text-align: right;\n",
       "    }\n",
       "</style>\n",
       "<table border=\"1\" class=\"dataframe\">\n",
       "  <thead>\n",
       "    <tr style=\"text-align: right;\">\n",
       "      <th></th>\n",
       "      <th>Invoice</th>\n",
       "      <th>StockCode</th>\n",
       "      <th>Description</th>\n",
       "      <th>Quantity</th>\n",
       "      <th>InvoiceDate</th>\n",
       "      <th>Price</th>\n",
       "      <th>Customer ID</th>\n",
       "      <th>Country</th>\n",
       "    </tr>\n",
       "  </thead>\n",
       "  <tbody>\n",
       "    <tr>\n",
       "      <th>0</th>\n",
       "      <td>489434</td>\n",
       "      <td>85048</td>\n",
       "      <td>15CM CHRISTMAS GLASS BALL 20 LIGHTS</td>\n",
       "      <td>12</td>\n",
       "      <td>2009-12-01 07:45:00</td>\n",
       "      <td>6.95</td>\n",
       "      <td>13085.0</td>\n",
       "      <td>United Kingdom</td>\n",
       "    </tr>\n",
       "    <tr>\n",
       "      <th>1</th>\n",
       "      <td>489434</td>\n",
       "      <td>79323P</td>\n",
       "      <td>PINK CHERRY LIGHTS</td>\n",
       "      <td>12</td>\n",
       "      <td>2009-12-01 07:45:00</td>\n",
       "      <td>6.75</td>\n",
       "      <td>13085.0</td>\n",
       "      <td>United Kingdom</td>\n",
       "    </tr>\n",
       "    <tr>\n",
       "      <th>2</th>\n",
       "      <td>489434</td>\n",
       "      <td>79323W</td>\n",
       "      <td>WHITE CHERRY LIGHTS</td>\n",
       "      <td>12</td>\n",
       "      <td>2009-12-01 07:45:00</td>\n",
       "      <td>6.75</td>\n",
       "      <td>13085.0</td>\n",
       "      <td>United Kingdom</td>\n",
       "    </tr>\n",
       "    <tr>\n",
       "      <th>3</th>\n",
       "      <td>489434</td>\n",
       "      <td>22041</td>\n",
       "      <td>RECORD FRAME 7\" SINGLE SIZE</td>\n",
       "      <td>48</td>\n",
       "      <td>2009-12-01 07:45:00</td>\n",
       "      <td>2.10</td>\n",
       "      <td>13085.0</td>\n",
       "      <td>United Kingdom</td>\n",
       "    </tr>\n",
       "    <tr>\n",
       "      <th>4</th>\n",
       "      <td>489434</td>\n",
       "      <td>21232</td>\n",
       "      <td>STRAWBERRY CERAMIC TRINKET BOX</td>\n",
       "      <td>24</td>\n",
       "      <td>2009-12-01 07:45:00</td>\n",
       "      <td>1.25</td>\n",
       "      <td>13085.0</td>\n",
       "      <td>United Kingdom</td>\n",
       "    </tr>\n",
       "    <tr>\n",
       "      <th>...</th>\n",
       "      <td>...</td>\n",
       "      <td>...</td>\n",
       "      <td>...</td>\n",
       "      <td>...</td>\n",
       "      <td>...</td>\n",
       "      <td>...</td>\n",
       "      <td>...</td>\n",
       "      <td>...</td>\n",
       "    </tr>\n",
       "    <tr>\n",
       "      <th>525456</th>\n",
       "      <td>538171</td>\n",
       "      <td>22271</td>\n",
       "      <td>FELTCRAFT DOLL ROSIE</td>\n",
       "      <td>2</td>\n",
       "      <td>2010-12-09 20:01:00</td>\n",
       "      <td>2.95</td>\n",
       "      <td>17530.0</td>\n",
       "      <td>United Kingdom</td>\n",
       "    </tr>\n",
       "    <tr>\n",
       "      <th>525457</th>\n",
       "      <td>538171</td>\n",
       "      <td>22750</td>\n",
       "      <td>FELTCRAFT PRINCESS LOLA DOLL</td>\n",
       "      <td>1</td>\n",
       "      <td>2010-12-09 20:01:00</td>\n",
       "      <td>3.75</td>\n",
       "      <td>17530.0</td>\n",
       "      <td>United Kingdom</td>\n",
       "    </tr>\n",
       "    <tr>\n",
       "      <th>525458</th>\n",
       "      <td>538171</td>\n",
       "      <td>22751</td>\n",
       "      <td>FELTCRAFT PRINCESS OLIVIA DOLL</td>\n",
       "      <td>1</td>\n",
       "      <td>2010-12-09 20:01:00</td>\n",
       "      <td>3.75</td>\n",
       "      <td>17530.0</td>\n",
       "      <td>United Kingdom</td>\n",
       "    </tr>\n",
       "    <tr>\n",
       "      <th>525459</th>\n",
       "      <td>538171</td>\n",
       "      <td>20970</td>\n",
       "      <td>PINK FLORAL FELTCRAFT SHOULDER BAG</td>\n",
       "      <td>2</td>\n",
       "      <td>2010-12-09 20:01:00</td>\n",
       "      <td>3.75</td>\n",
       "      <td>17530.0</td>\n",
       "      <td>United Kingdom</td>\n",
       "    </tr>\n",
       "    <tr>\n",
       "      <th>525460</th>\n",
       "      <td>538171</td>\n",
       "      <td>21931</td>\n",
       "      <td>JUMBO STORAGE BAG SUKI</td>\n",
       "      <td>2</td>\n",
       "      <td>2010-12-09 20:01:00</td>\n",
       "      <td>1.95</td>\n",
       "      <td>17530.0</td>\n",
       "      <td>United Kingdom</td>\n",
       "    </tr>\n",
       "  </tbody>\n",
       "</table>\n",
       "<p>525461 rows × 8 columns</p>\n",
       "</div>"
      ],
      "text/plain": [
       "       Invoice StockCode                          Description  Quantity  \\\n",
       "0       489434     85048  15CM CHRISTMAS GLASS BALL 20 LIGHTS        12   \n",
       "1       489434    79323P                   PINK CHERRY LIGHTS        12   \n",
       "2       489434    79323W                  WHITE CHERRY LIGHTS        12   \n",
       "3       489434     22041         RECORD FRAME 7\" SINGLE SIZE         48   \n",
       "4       489434     21232       STRAWBERRY CERAMIC TRINKET BOX        24   \n",
       "...        ...       ...                                  ...       ...   \n",
       "525456  538171     22271                 FELTCRAFT DOLL ROSIE         2   \n",
       "525457  538171     22750         FELTCRAFT PRINCESS LOLA DOLL         1   \n",
       "525458  538171     22751       FELTCRAFT PRINCESS OLIVIA DOLL         1   \n",
       "525459  538171     20970   PINK FLORAL FELTCRAFT SHOULDER BAG         2   \n",
       "525460  538171     21931               JUMBO STORAGE BAG SUKI         2   \n",
       "\n",
       "               InvoiceDate  Price  Customer ID         Country  \n",
       "0      2009-12-01 07:45:00   6.95      13085.0  United Kingdom  \n",
       "1      2009-12-01 07:45:00   6.75      13085.0  United Kingdom  \n",
       "2      2009-12-01 07:45:00   6.75      13085.0  United Kingdom  \n",
       "3      2009-12-01 07:45:00   2.10      13085.0  United Kingdom  \n",
       "4      2009-12-01 07:45:00   1.25      13085.0  United Kingdom  \n",
       "...                    ...    ...          ...             ...  \n",
       "525456 2010-12-09 20:01:00   2.95      17530.0  United Kingdom  \n",
       "525457 2010-12-09 20:01:00   3.75      17530.0  United Kingdom  \n",
       "525458 2010-12-09 20:01:00   3.75      17530.0  United Kingdom  \n",
       "525459 2010-12-09 20:01:00   3.75      17530.0  United Kingdom  \n",
       "525460 2010-12-09 20:01:00   1.95      17530.0  United Kingdom  \n",
       "\n",
       "[525461 rows x 8 columns]"
      ]
     },
     "execution_count": 47,
     "metadata": {},
     "output_type": "execute_result"
    }
   ],
   "source": [
    "# Filtrado\n",
    "df = pd.read_excel(\"./prueba_i2ds/online_retail_II.xlsx\")\n",
    "df\n"
   ]
  },
  {
   "cell_type": "code",
   "execution_count": 56,
   "metadata": {},
   "outputs": [
    {
     "data": {
      "text/plain": [
       "Country\n",
       "Australia           20053\n",
       "Austria              6479\n",
       "Bahrain              1015\n",
       "Belgium             11980\n",
       "Bermuda              2798\n",
       "Brazil                189\n",
       "Canada                894\n",
       "Channel Islands     10994\n",
       "Cyprus               4371\n",
       "Denmark            227030\n",
       "EIRE               188704\n",
       "Name: Quantity, dtype: int64"
      ]
     },
     "execution_count": 56,
     "metadata": {},
     "output_type": "execute_result"
    }
   ],
   "source": [
    "# Determinar el país que más productos consume\n",
    "country_consumption = df.groupby('Country')['Quantity'].sum()[:11]\n",
    "country_consumption"
   ]
  },
  {
   "cell_type": "code",
   "execution_count": 58,
   "metadata": {},
   "outputs": [
    {
     "data": {
      "text/plain": [
       "Description\n",
       "WHITE HANGING HEART T-LIGHT HOLDER    57733\n",
       "WORLD WAR 2 GLIDERS ASSTD DESIGNS     54698\n",
       "BROCADE RING PURSE                    47647\n",
       "PACK OF 72 RETRO SPOT CAKE CASES      46106\n",
       "ASSORTED COLOUR BIRD ORNAMENT         44925\n",
       "60 TEATIME FAIRY CAKE CASES           36326\n",
       "PACK OF 60 PINK PAISLEY CAKE CASES    31822\n",
       "JUMBO BAG RED RETROSPOT               30727\n",
       "SMALL POPCORN HOLDER                  29500\n",
       "STRAWBERRY CERAMIC TRINKET BOX        26563\n",
       "Name: Quantity, dtype: int64"
      ]
     },
     "execution_count": 58,
     "metadata": {},
     "output_type": "execute_result"
    }
   ],
   "source": [
    "# Identificar los productos más vendidos\n",
    "popular_products = df.groupby('Description')['Quantity'].sum().sort_values(ascending=False).head(10)\n",
    "popular_products"
   ]
  },
  {
   "cell_type": "markdown",
   "metadata": {},
   "source": [
    "# Paso 4: Visualización de Datos con Matplotlib y Seaborn"
   ]
  },
  {
   "cell_type": "code",
   "execution_count": 64,
   "metadata": {},
   "outputs": [
    {
     "name": "stderr",
     "output_type": "stream",
     "text": [
      "C:\\Users\\jonzn\\AppData\\Local\\Temp\\ipykernel_11336\\409291703.py:3: FutureWarning: \n",
      "\n",
      "Passing `palette` without assigning `hue` is deprecated and will be removed in v0.14.0. Assign the `y` variable to `hue` and set `legend=False` for the same effect.\n",
      "\n",
      "  sns.barplot(x=popular_products.values, y=popular_products.index, palette=\"viridis\")\n"
     ]
    },
    {
     "data": {
      "text/plain": [
       "Text(0.5, 1.0, 'Productos Más Vendidos')"
      ]
     },
     "execution_count": 64,
     "metadata": {},
     "output_type": "execute_result"
    },
    {
     "data": {
      "image/png": "[encoded data removed]",
      "text/plain": [
       "<Figure size 1000x600 with 1 Axes>"
      ]
     },
     "metadata": {},
     "output_type": "display_data"
    }
   ],
   "source": [
    "# Visualización de los productos más vendidos\n",
    "plt.figure(figsize=(10, 6))\n",
    "sns.barplot(x=popular_products.values, y=popular_products.index, palette=\"viridis\")\n",
    "plt.xlabel('Cantidad de Ventas')\n",
    "plt.ylabel('Producto')\n",
    "plt.title('Productos Más Vendidos')\n"
   ]
  }
 ],
 "metadata": {
  "kernelspec": {
   "display_name": "env",
   "language": "python",
   "name": "python3"
  },
  "language_info": {
   "codemirror_mode": {
    "name": "ipython",
    "version": 3
   },
   "file_extension": ".py",
   "mimetype": "text/x-python",
   "name": "python",
   "nbconvert_exporter": "python",
   "pygments_lexer": "ipython3",
   "version": "3.11.4"
  }
 },
 "nbformat": 4,
 "nbformat_minor": 2
}
